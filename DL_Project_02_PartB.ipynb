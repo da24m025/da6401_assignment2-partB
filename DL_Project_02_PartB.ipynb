{
  "cells": [
    {
      "cell_type": "code",
      "execution_count": null,
      "metadata": {
        "id": "wmCJ388hNy1L"
      },
      "outputs": [],
      "source": [
        "# IMPORTANT: SOME KAGGLE DATA SOURCES ARE PRIVATE\n",
        "# RUN THIS CELL IN ORDER TO IMPORT YOUR KAGGLE DATA SOURCES.\n",
        "import kagglehub\n",
        "kagglehub.login()\n"
      ]
    },
    {
      "cell_type": "code",
      "execution_count": null,
      "metadata": {
        "id": "li4dwhelNy1O"
      },
      "outputs": [],
      "source": [
        "# IMPORTANT: RUN THIS CELL IN ORDER TO IMPORT YOUR KAGGLE DATA SOURCES,\n",
        "# THEN FEEL FREE TO DELETE THIS CELL.\n",
        "# NOTE: THIS NOTEBOOK ENVIRONMENT DIFFERS FROM KAGGLE'S PYTHON\n",
        "# ENVIRONMENT SO THERE MAY BE MISSING LIBRARIES USED BY YOUR\n",
        "# NOTEBOOK.\n",
        "\n",
        "teja8y_inaturalist_path = kagglehub.dataset_download('teja8y/inaturalist')\n",
        "\n",
        "print('Data source import complete.')\n"
      ]
    },
    {
      "cell_type": "code",
      "execution_count": null,
      "metadata": {
        "execution": {
          "iopub.execute_input": "2025-04-19T11:58:42.344762Z",
          "iopub.status.busy": "2025-04-19T11:58:42.344426Z",
          "iopub.status.idle": "2025-04-19T12:51:11.489514Z",
          "shell.execute_reply": "2025-04-19T12:51:11.488443Z",
          "shell.execute_reply.started": "2025-04-19T11:58:42.34473Z"
        },
        "id": "jEaLSAxMNy1S",
        "outputId": "37bd268a-6406-46cc-b5dc-a22ea1df6308",
        "trusted": true
      },
      "outputs": [
        {
          "name": "stderr",
          "output_type": "stream",
          "text": [
            "\u001b[34m\u001b[1mwandb\u001b[0m: Using wandb-core as the SDK backend.  Please refer to https://wandb.me/wandb-core for more information.\n",
            "\u001b[34m\u001b[1mwandb\u001b[0m: Currently logged in as: \u001b[33mfgbb66579\u001b[0m (\u001b[33mfgbb66579-iit-madras-foundation\u001b[0m). Use \u001b[1m`wandb login --relogin`\u001b[0m to force relogin\n"
          ]
        },
        {
          "data": {
            "text/html": [
              "Tracking run with wandb version 0.19.1"
            ],
            "text/plain": [
              "<IPython.core.display.HTML object>"
            ]
          },
          "metadata": {},
          "output_type": "display_data"
        },
        {
          "data": {
            "text/html": [
              "Run data is saved locally in <code>/kaggle/working/wandb/run-20250419_115857-mjv5gseb</code>"
            ],
            "text/plain": [
              "<IPython.core.display.HTML object>"
            ]
          },
          "metadata": {},
          "output_type": "display_data"
        },
        {
          "data": {
            "text/html": [
              "Syncing run <strong><a href='https://wandb.ai/fgbb66579-iit-madras-foundation/inaturalist_finetune/runs/mjv5gseb' target=\"_blank\">winter-thunder-2</a></strong> to <a href='https://wandb.ai/fgbb66579-iit-madras-foundation/inaturalist_finetune' target=\"_blank\">Weights & Biases</a> (<a href='https://wandb.me/developer-guide' target=\"_blank\">docs</a>)<br>"
            ],
            "text/plain": [
              "<IPython.core.display.HTML object>"
            ]
          },
          "metadata": {},
          "output_type": "display_data"
        },
        {
          "data": {
            "text/html": [
              " View project at <a href='https://wandb.ai/fgbb66579-iit-madras-foundation/inaturalist_finetune' target=\"_blank\">https://wandb.ai/fgbb66579-iit-madras-foundation/inaturalist_finetune</a>"
            ],
            "text/plain": [
              "<IPython.core.display.HTML object>"
            ]
          },
          "metadata": {},
          "output_type": "display_data"
        },
        {
          "data": {
            "text/html": [
              " View run at <a href='https://wandb.ai/fgbb66579-iit-madras-foundation/inaturalist_finetune/runs/mjv5gseb' target=\"_blank\">https://wandb.ai/fgbb66579-iit-madras-foundation/inaturalist_finetune/runs/mjv5gseb</a>"
            ],
            "text/plain": [
              "<IPython.core.display.HTML object>"
            ]
          },
          "metadata": {},
          "output_type": "display_data"
        },
        {
          "name": "stderr",
          "output_type": "stream",
          "text": [
            "/usr/local/lib/python3.10/dist-packages/torchvision/models/_utils.py:208: UserWarning: The parameter 'pretrained' is deprecated since 0.13 and may be removed in the future, please use 'weights' instead.\n",
            "  warnings.warn(\n",
            "/usr/local/lib/python3.10/dist-packages/torchvision/models/_utils.py:223: UserWarning: Arguments other than a weight enum or `None` for 'weights' are deprecated since 0.13 and may be removed in the future. The current behavior is equivalent to passing `weights=ResNet50_Weights.IMAGENET1K_V1`. You can also use `weights=ResNet50_Weights.DEFAULT` to get the most up-to-date weights.\n",
            "  warnings.warn(msg)\n",
            "Downloading: \"https://download.pytorch.org/models/resnet50-0676ba61.pth\" to /root/.cache/torch/hub/checkpoints/resnet50-0676ba61.pth\n",
            "100%|██████████| 97.8M/97.8M [00:00<00:00, 212MB/s]\n"
          ]
        },
        {
          "name": "stdout",
          "output_type": "stream",
          "text": [
            "\n",
            "Epoch 1/50\n",
            "\n",
            "Epoch 2/50\n",
            "\n",
            "Epoch 3/50\n",
            "\n",
            "Epoch 4/50\n",
            "\n",
            "Epoch 5/50\n",
            "\n",
            "Epoch 6/50\n",
            "\n",
            "Epoch 7/50\n",
            "\n",
            "Epoch 8/50\n",
            "\n",
            "Epoch 9/50\n",
            "\n",
            "Epoch 10/50\n",
            "\n",
            "Epoch 11/50\n",
            "\n",
            "Epoch 12/50\n",
            "\n",
            "Epoch 13/50\n",
            "\n",
            "Epoch 14/50\n",
            "\n",
            "Epoch 15/50\n",
            "\n",
            "Epoch 16/50\n",
            "\n",
            "Epoch 17/50\n",
            "\n",
            "Epoch 18/50\n",
            "\n",
            "Epoch 19/50\n",
            "\n",
            "Epoch 20/50\n",
            "\n",
            "Epoch 21/50\n",
            "\n",
            "Epoch 22/50\n",
            "\n",
            "Epoch 23/50\n",
            "\n",
            "Epoch 24/50\n",
            "\n",
            "Epoch 25/50\n",
            "\n",
            "Epoch 26/50\n",
            "\n",
            "Epoch 27/50\n",
            "\n",
            "Epoch 28/50\n",
            "\n",
            "Epoch 29/50\n",
            "\n",
            "Epoch 30/50\n",
            "\n",
            "Epoch 31/50\n",
            "\n",
            "Epoch 32/50\n",
            "\n",
            "Epoch 33/50\n",
            "\n",
            "Epoch 34/50\n",
            "\n",
            "Epoch 35/50\n",
            "\n",
            "Epoch 36/50\n",
            "\n",
            "Epoch 37/50\n",
            "\n",
            "Epoch 38/50\n",
            "\n",
            "Epoch 39/50\n",
            "\n",
            "Epoch 40/50\n",
            "\n",
            "Epoch 41/50\n",
            "\n",
            "Epoch 42/50\n",
            "\n",
            "Epoch 43/50\n",
            "\n",
            "Epoch 44/50\n",
            "\n",
            "Epoch 45/50\n",
            "\n",
            "Epoch 46/50\n",
            "\n",
            "Epoch 47/50\n",
            "\n",
            "Epoch 48/50\n",
            "\n",
            "Epoch 49/50\n",
            "\n",
            "Epoch 50/50\n",
            "\n",
            "Test Accuracy: 78.10%\n",
            "Accuracy plot saved to 'finetune_resnet50_accuracy.png'\n",
            "\n",
            "=== Analysis Summary ===\n",
            "Best Validation Accuracy: 78.55%\n",
            "Test Accuracy           : 78.10%\n",
            "Strategy: Feature Extraction (freeze backbone, train final layer)\n",
            "- Leveraged pretrained ImageNet features for fast convergence.\n",
            "- Only final layer (~2M parameters) was trained.\n",
            "- Achieved superior accuracy vs. training from scratch.\n"
          ]
        },
        {
          "data": {
            "image/png": "[encoded data removed]",
            "text/plain": [
              "<Figure size 800x500 with 1 Axes>"
            ]
          },
          "metadata": {},
          "output_type": "display_data"
        }
      ],
      "source": [
        "import os\n",
        "import torch\n",
        "import torch.nn as nn\n",
        "import torch.optim as optim\n",
        "from torchvision import datasets, models, transforms\n",
        "from torch.utils.data import DataLoader, Subset\n",
        "from sklearn.model_selection import train_test_split\n",
        "import numpy as np\n",
        "import matplotlib.pyplot as plt\n",
        "import wandb\n",
        "os.environ[\"WANDB_API_KEY\"] = \"e095fbd374bc0fa234acb179a6ec7620b57abf28\"\n",
        "# ===========================\n",
        "# Configuration and Settings\n",
        "# ===========================\n",
        "# Initialize a W&B run\n",
        "wandb.init(\n",
        "    project=\"inaturalist_finetune\",\n",
        "    config={\n",
        "        \"data_dir\": \"/kaggle/input/inaturalist/inaturalist_12K\",\n",
        "        \"batch_size\": 32,\n",
        "        \"num_epochs\": 50,\n",
        "        \"learning_rate\": 0.001,\n",
        "        \"valid_frac\": 0.2,\n",
        "        \"model_name\": \"resnet50_feature_extraction\"\n",
        "    }\n",
        ")\n",
        "config = wandb.config\n",
        "\n",
        "# Device setup\n",
        "device = torch.device('cuda' if torch.cuda.is_available() else 'cpu')\n",
        "\n",
        "# =====================\n",
        "# Data Transforms\n",
        "# =====================\n",
        "train_transform = transforms.Compose([\n",
        "    transforms.Resize((224, 224)),\n",
        "    transforms.RandomHorizontalFlip(),\n",
        "    transforms.ToTensor(),\n",
        "    transforms.Normalize(mean=[0.485, 0.456, 0.406],\n",
        "                         std=[0.229, 0.224, 0.225]),\n",
        "])\n",
        "val_transform = transforms.Compose([\n",
        "    transforms.Resize((224, 224)),\n",
        "    transforms.ToTensor(),\n",
        "    transforms.Normalize(mean=[0.485, 0.456, 0.406],\n",
        "                         std=[0.229, 0.224, 0.225]),\n",
        "])\n",
        "\n",
        "# =====================\n",
        "# Prepare Datasets\n",
        "# =====================\n",
        "dataset_full = datasets.ImageFolder(os.path.join(config.data_dir, 'train'), transform=train_transform)\n",
        "targets = [s[1] for s in dataset_full.samples]\n",
        "indices = list(range(len(dataset_full)))\n",
        "train_idx, val_idx = train_test_split(indices,\n",
        "                                      test_size=config.valid_frac,\n",
        "                                      stratify=targets,\n",
        "                                      random_state=42)\n",
        "dataset_train = Subset(dataset_full, train_idx)\n",
        "dataset_full_val = datasets.ImageFolder(os.path.join(config.data_dir, 'train'), transform=val_transform)\n",
        "dataset_val = Subset(dataset_full_val, val_idx)\n",
        "dataset_test = datasets.ImageFolder(os.path.join(config.data_dir, 'test'), transform=val_transform)\n",
        "\n",
        "# Data loaders\n",
        "dataloaders = {\n",
        "    'train': DataLoader(dataset_train, batch_size=config.batch_size, shuffle=True, num_workers=4, pin_memory=True),\n",
        "    'val':   DataLoader(dataset_val,   batch_size=config.batch_size, shuffle=False, num_workers=4, pin_memory=True),\n",
        "    'test':  DataLoader(dataset_test,  batch_size=config.batch_size, shuffle=False, num_workers=4, pin_memory=True)\n",
        "}\n",
        "dataset_sizes = {x: len(dataloaders[x].dataset) for x in ['train','val','test']}\n",
        "class_names = dataset_full.classes\n",
        "num_classes = len(class_names)\n",
        "\n",
        "# Log dataset info\n",
        "wandb.log({\n",
        "    \"dataset/train_size\": dataset_sizes['train'],\n",
        "    \"dataset/val_size\":   dataset_sizes['val'],\n",
        "    \"dataset/test_size\":  dataset_sizes['test'],\n",
        "    \"num_classes\":        num_classes\n",
        "})\n",
        "\n",
        "# =====================\n",
        "# Model Setup\n",
        "# =====================\n",
        "model = models.resnet50(pretrained=True)\n",
        "num_ftrs = model.fc.in_features\n",
        "model.fc = nn.Linear(num_ftrs, num_classes)\n",
        "\n",
        "# Feature Extraction: freeze all backbone layers\n",
        "for name, param in model.named_parameters():\n",
        "    if 'fc' not in name:\n",
        "        param.requires_grad = False\n",
        "model = model.to(device)\n",
        "\n",
        "# Watch model with W&B to log gradients and weights\n",
        "wandb.watch(model, log=\"all\", log_freq=10)\n",
        "\n",
        "# =====================\n",
        "# Loss and Optimizer\n",
        "# =====================\n",
        "criterion = nn.CrossEntropyLoss()\n",
        "optimizer = optim.SGD(model.fc.parameters(), lr=config.learning_rate, momentum=0.9)\n",
        "\n",
        "# =====================\n",
        "# Training and Validation Loop\n",
        "# =====================\n",
        "train_acc_history = []\n",
        "val_acc_history = []\n",
        "best_val_acc = 0.0\n",
        "best_model_wts = model.state_dict()\n",
        "\n",
        "for epoch in range(config.num_epochs):\n",
        "    print(f\"\\nEpoch {epoch+1}/{config.num_epochs}\")\n",
        "    for phase in ['train', 'val']:\n",
        "        if phase == 'train':\n",
        "            model.train()\n",
        "        else:\n",
        "            model.eval()\n",
        "\n",
        "        running_loss = 0.0\n",
        "        running_corrects = 0\n",
        "\n",
        "        for inputs, labels in dataloaders[phase]:\n",
        "            inputs = inputs.to(device)\n",
        "            labels = labels.to(device)\n",
        "            optimizer.zero_grad()\n",
        "\n",
        "            with torch.set_grad_enabled(phase == 'train'):\n",
        "                outputs = model(inputs)\n",
        "                _, preds = torch.max(outputs, 1)\n",
        "                loss = criterion(outputs, labels)\n",
        "                if phase == 'train':\n",
        "                    loss.backward()\n",
        "                    optimizer.step()\n",
        "\n",
        "            running_loss += loss.item() * inputs.size(0)\n",
        "            running_corrects += torch.sum(preds == labels.data)\n",
        "\n",
        "        epoch_loss = running_loss / dataset_sizes[phase]\n",
        "        epoch_acc = running_corrects.double().item() / dataset_sizes[phase] * 100\n",
        "\n",
        "        # Log metrics to W&B\n",
        "        wandb.log({\n",
        "            f\"{phase}/loss\": epoch_loss,\n",
        "            f\"{phase}/accuracy\": epoch_acc,\n",
        "            \"epoch\": epoch+1,\n",
        "            \"learning_rate\": optimizer.param_groups[0]['lr']\n",
        "        })\n",
        "\n",
        "        if phase == 'train':\n",
        "            train_acc_history.append(epoch_acc)\n",
        "        else:\n",
        "            val_acc_history.append(epoch_acc)\n",
        "            if epoch_acc > best_val_acc:\n",
        "                best_val_acc = epoch_acc\n",
        "                best_model_wts = model.state_dict()\n",
        "\n",
        "# Load best model weights\n",
        "model.load_state_dict(best_model_wts)\n",
        "\n",
        "# =====================\n",
        "# Test Set Evaluation\n",
        "# =====================\n",
        "model.eval()\n",
        "correct_test = 0\n",
        "with torch.no_grad():\n",
        "    for inputs, labels in dataloaders['test']:\n",
        "        inputs = inputs.to(device)\n",
        "        labels = labels.to(device)\n",
        "        preds = model(inputs).argmax(1)\n",
        "        correct_test += torch.sum(preds == labels.data).item()\n",
        "\n",
        "test_acc = correct_test / dataset_sizes['test'] * 100\n",
        "print(f\"\\nTest Accuracy: {test_acc:.2f}%\")\n",
        "\n",
        "# Log test accuracy\\wandb.log({\"test/accuracy\": test_acc})\n",
        "\n",
        "# =====================\n",
        "# Plot and Log Accuracy Curves\n",
        "# =====================\n",
        "plt.figure(figsize=(8, 5))\n",
        "plt.plot(range(1, config.num_epochs+1), train_acc_history, label='Train Acc')\n",
        "plt.plot(range(1, config.num_epochs+1), val_acc_history,   label='Val Acc')\n",
        "plt.xlabel('Epoch')\n",
        "plt.ylabel('Accuracy (%)')\n",
        "plt.title('Fine-Tuning ResNet50: Train vs. Val Accuracy')\n",
        "plt.legend()\n",
        "plt.grid(True)\n",
        "plt.savefig('finetune_resnet50_accuracy.png')\n",
        "print(\"Accuracy plot saved to 'finetune_resnet50_accuracy.png'\")\n",
        "\n",
        "# Log the plot as an artifact/image\n",
        "wandb.log({\"accuracy_plot\": wandb.Image('finetune_resnet50_accuracy.png')})\n",
        "\n",
        "# =====================\n",
        "# Final Analysis\n",
        "# =====================\n",
        "wandb.summary['best_val_accuracy'] = best_val_acc\n",
        "wandb.summary['test_accuracy'] = test_acc\n",
        "\n",
        "print(\"\\n=== Analysis Summary ===\")\n",
        "print(f\"Best Validation Accuracy: {best_val_acc:.2f}%\")\n",
        "print(f\"Test Accuracy           : {test_acc:.2f}%\")\n",
        "print(\"Strategy: Feature Extraction (freeze backbone, train final layer)\")\n",
        "print(\"- Leveraged pretrained ImageNet features for fast convergence.\")\n",
        "print(\"- Only final layer (~2M parameters) was trained.\")\n",
        "print(\"- Achieved superior accuracy vs. training from scratch.\")"
      ]
    },
    {
      "cell_type": "code",
      "execution_count": null,
      "metadata": {
        "execution": {
          "iopub.execute_input": "2025-04-19T12:59:55.872343Z",
          "iopub.status.busy": "2025-04-19T12:59:55.871874Z",
          "iopub.status.idle": "2025-04-19T13:00:08.364137Z",
          "shell.execute_reply": "2025-04-19T13:00:08.362884Z",
          "shell.execute_reply.started": "2025-04-19T12:59:55.87231Z"
        },
        "id": "EVaHMiIENy1S",
        "outputId": "63fed030-2f71-42ef-992e-e7dea15e970f",
        "trusted": true
      },
      "outputs": [
        {
          "name": "stdout",
          "output_type": "stream",
          "text": [
            "\n",
            "Test Accuracy: 78.10%\n",
            "Test Loss: 0.6936\n"
          ]
        }
      ],
      "source": [
        "import torch\n",
        "import wandb\n",
        "\n",
        "# Assuming model, device, and dataloaders are already defined\n",
        "model.eval()\n",
        "correct_test = 0\n",
        "total_test_loss = 0.0\n",
        "criterion = torch.nn.CrossEntropyLoss()  # Example loss function\n",
        "\n",
        "with torch.no_grad():\n",
        "    for inputs, labels in dataloaders['test']:\n",
        "        inputs = inputs.to(device)\n",
        "        labels = labels.to(device)\n",
        "\n",
        "        # Forward pass\n",
        "        outputs = model(inputs)\n",
        "        preds = outputs.argmax(1)\n",
        "\n",
        "        # Compute accuracy\n",
        "        correct_test += torch.sum(preds == labels.data).item()\n",
        "\n",
        "        # Compute loss\n",
        "        loss = criterion(outputs, labels)\n",
        "        total_test_loss += loss.item() * inputs.size(0)\n",
        "\n",
        "# Calculate metrics\n",
        "test_acc = correct_test / dataset_sizes['test'] * 100\n",
        "test_loss = total_test_loss / dataset_sizes['test']\n",
        "\n",
        "# Print results\n",
        "print(f\"\\nTest Accuracy: {test_acc:.2f}%\")\n",
        "print(f\"Test Loss: {test_loss:.4f}\")\n",
        "\n",
        "# Log metrics to W&B\n",
        "wandb.log({\n",
        "    \"test/accuracy\": test_acc,\n",
        "    \"test/loss\": test_loss\n",
        "})"
      ]
    }
  ],
  "metadata": {
    "colab": {
      "name": "DL Project 02",
      "provenance": []
    },
    "kaggle": {
      "accelerator": "nvidiaTeslaT4",
      "dataSources": [
        {
          "datasetId": 7037646,
          "sourceId": 11260251,
          "sourceType": "datasetVersion"
        }
      ],
      "dockerImageVersionId": 30919,
      "isGpuEnabled": true,
      "isInternetEnabled": true,
      "language": "python",
      "sourceType": "notebook"
    },
    "kernelspec": {
      "display_name": "Python 3",
      "language": "python",
      "name": "python3"
    },
    "language_info": {
      "codemirror_mode": {
        "name": "ipython",
        "version": 3
      },
      "file_extension": ".py",
      "mimetype": "text/x-python",
      "name": "python",
      "nbconvert_exporter": "python",
      "pygments_lexer": "ipython3",
      "version": "3.10.12"
    }
  },
  "nbformat": 4,
  "nbformat_minor": 0
}
